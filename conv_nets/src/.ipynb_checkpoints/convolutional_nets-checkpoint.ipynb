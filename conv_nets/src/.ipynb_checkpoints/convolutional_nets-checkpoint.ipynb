{
 "cells": [
  {
   "cell_type": "markdown",
   "metadata": {},
   "source": [
    "# Homework 3 - Exercise 1"
   ]
  },
  {
   "cell_type": "markdown",
   "metadata": {},
   "source": [
    "## Emma Parois"
   ]
  },
  {
   "cell_type": "code",
   "execution_count": 1,
   "metadata": {},
   "outputs": [],
   "source": [
    "import numpy as np\n",
    "import torch\n",
    "import torchvision\n",
    "from torch.utils.data import DataLoader\n",
    "import matplotlib.pyplot as plt\n",
    "import torch.nn as nn\n",
    "import torch.nn.functional as F\n",
    "from tqdm import tqdm"
   ]
  },
  {
   "cell_type": "markdown",
   "metadata": {},
   "source": [
    "## Load data sets"
   ]
  },
  {
   "cell_type": "code",
   "execution_count": 2,
   "metadata": {},
   "outputs": [],
   "source": [
    "trainset = torchvision.datasets.MNIST(\n",
    "    root='../data', \n",
    "    train=True, \n",
    "    download=True, \n",
    "    transform=torchvision.transforms.ToTensor()\n",
    ")"
   ]
  },
  {
   "cell_type": "code",
   "execution_count": 3,
   "metadata": {},
   "outputs": [],
   "source": [
    "testset = torchvision.datasets.MNIST(\n",
    "    root='../data', \n",
    "    train=False, \n",
    "    download=True, \n",
    "    transform=torchvision.transforms.ToTensor()\n",
    ")"
   ]
  },
  {
   "cell_type": "code",
   "execution_count": 4,
   "metadata": {},
   "outputs": [],
   "source": [
    "trainset, valset = torch.utils.data.random_split(trainset, [len(trainset)-10000, 10000])"
   ]
  },
  {
   "cell_type": "code",
   "execution_count": 5,
   "metadata": {},
   "outputs": [],
   "source": [
    "batch_size = 8192"
   ]
  },
  {
   "cell_type": "code",
   "execution_count": 6,
   "metadata": {},
   "outputs": [],
   "source": [
    "train_loader = DataLoader(\n",
    "    trainset,\n",
    "    num_workers=2,\n",
    "    batch_size=batch_size,\n",
    "    shuffle=True\n",
    ")"
   ]
  },
  {
   "cell_type": "code",
   "execution_count": 7,
   "metadata": {},
   "outputs": [],
   "source": [
    "val_loader = DataLoader(\n",
    "    valset,\n",
    "    num_workers=2,\n",
    "    batch_size=len(valset),\n",
    "    shuffle=True\n",
    ")\n",
    "batch_idx, (xVal, yVal) = next(enumerate(val_loader))"
   ]
  },
  {
   "cell_type": "code",
   "execution_count": 8,
   "metadata": {},
   "outputs": [],
   "source": [
    "test_loader = DataLoader(\n",
    "    testset,\n",
    "    num_workers=2,\n",
    "    batch_size=len(valset),\n",
    "    shuffle=True\n",
    ")\n",
    "batch_idx, (xTest, yTest) = next(enumerate(test_loader))"
   ]
  },
  {
   "cell_type": "markdown",
   "metadata": {},
   "source": [
    "# Network 1"
   ]
  },
  {
   "cell_type": "code",
   "execution_count": 9,
   "metadata": {},
   "outputs": [],
   "source": [
    "class Net1(nn.Module):\n",
    "    \n",
    "    def __init__(self):\n",
    "        super(Net1, self).__init__()\n",
    "        self.conv1 = nn.Conv2d(1, 20, kernel_size=5, padding=1, stride=1)\n",
    "        self.pool1 = nn.MaxPool2d(kernel_size=2, padding=0, stride=2)\n",
    "        self.fc1 = nn.Linear(20 * 13 * 13, 100)\n",
    "        self.fc2 = nn.Linear(100, 10)\n",
    "\n",
    "    def forward(self, x):\n",
    "        x = F.relu(self.conv1(x))\n",
    "        x = self.pool1(x)\n",
    "        x = x.view(-1, 20 * 13 * 13)\n",
    "        x = F.relu(self.fc1(x))\n",
    "        x = self.fc2(x)\n",
    "        return x"
   ]
  },
  {
   "cell_type": "code",
   "execution_count": 10,
   "metadata": {},
   "outputs": [],
   "source": [
    "net1 = Net1()"
   ]
  },
  {
   "cell_type": "code",
   "execution_count": 11,
   "metadata": {},
   "outputs": [],
   "source": [
    "epochs = 60"
   ]
  },
  {
   "cell_type": "code",
   "execution_count": 12,
   "metadata": {},
   "outputs": [],
   "source": [
    "loss_function = nn.CrossEntropyLoss()"
   ]
  },
  {
   "cell_type": "code",
   "execution_count": 13,
   "metadata": {},
   "outputs": [],
   "source": [
    "optimizer = torch.optim.SGD(net1.parameters(), lr=0.001, momentum=0.9)"
   ]
  },
  {
   "cell_type": "code",
   "execution_count": 14,
   "metadata": {},
   "outputs": [],
   "source": [
    "val_patience = 5 \n",
    "val_frequency = 30\n",
    "f = 0\n",
    "p = 0\n",
    "loss_val = []\n",
    "min_loss = np.inf\n",
    "loss_epoch = []\n",
    "loss_val_abscisse = []"
   ]
  },
  {
   "cell_type": "code",
   "execution_count": 15,
   "metadata": {},
   "outputs": [
    {
     "name": "stderr",
     "output_type": "stream",
     "text": [
      "100%|██████████| 60/60 [07:49<00:00,  7.82s/it]"
     ]
    },
    {
     "name": "stdout",
     "output_type": "stream",
     "text": [
      "CPU times: user 20min 31s, sys: 7min 7s, total: 27min 38s\n",
      "Wall time: 7min 49s\n"
     ]
    },
    {
     "name": "stderr",
     "output_type": "stream",
     "text": [
      "\n"
     ]
    }
   ],
   "source": [
    "%%time\n",
    "for epoch in tqdm(range(epochs)):\n",
    "    for batch_idx, (xTrain, yTrain) in enumerate(train_loader):        \n",
    "        optimizer.zero_grad()\n",
    "        output = net1(xTrain)\n",
    "        loss = loss_function(output, yTrain)\n",
    "        loss.backward()\n",
    "        optimizer.step()\n",
    "        \n",
    "        # Calculate loss validation every val_frequency iterations\n",
    "        if f%val_frequency == 0:  \n",
    "            with torch.no_grad():\n",
    "                output_val = net1(xVal)\n",
    "                loss_val_item = loss_function(output_val, yVal).item()\n",
    "              \n",
    "            loss_val.append(loss_val_item)\n",
    "            loss_val_abscisse.append(epoch)\n",
    "                \n",
    "            if min_loss > min(loss_val):\n",
    "                min_loss = min(loss_val)\n",
    "                p = 0\n",
    "            if loss_val_item >= min_loss:     \n",
    "                p += 1\n",
    "            # Check if the validation patience has been reached \n",
    "            if p == val_patience:\n",
    "                break\n",
    "        f += 1\n",
    "           \n",
    "    loss_epoch.append(loss.item())     \n",
    "    #print('Epoch', epoch, 'training loss', loss.item())"
   ]
  },
  {
   "cell_type": "markdown",
   "metadata": {},
   "source": [
    "### Plot training and validation loss"
   ]
  },
  {
   "cell_type": "code",
   "execution_count": 16,
   "metadata": {},
   "outputs": [
    {
     "data": {
      "text/plain": [
       "<matplotlib.legend.Legend at 0x7f7878e88f10>"
      ]
     },
     "execution_count": 16,
     "metadata": {},
     "output_type": "execute_result"
    },
    {
     "data": {
      "image/png": "[encoded data removed]",
      "text/plain": [
       "<Figure size 432x288 with 1 Axes>"
      ]
     },
     "metadata": {
      "needs_background": "light"
     },
     "output_type": "display_data"
    }
   ],
   "source": [
    "plt.plot(loss_epoch, label=\"Training loss\")\n",
    "plt.plot(loss_val_abscisse, loss_val, '--o', label=\"Validation loss\")\n",
    "plt.title(\"Loss variation \")\n",
    "plt.ylabel(\"Loss function\")\n",
    "plt.xlabel(\"Epochs\")\n",
    "plt.legend(loc=\"upper right\")"
   ]
  },
  {
   "cell_type": "markdown",
   "metadata": {},
   "source": [
    "## Classification errors"
   ]
  },
  {
   "cell_type": "code",
   "execution_count": 17,
   "metadata": {},
   "outputs": [],
   "source": [
    "error = lambda y, yTrue: (y != yTrue).sum().true_divide(len(y))"
   ]
  },
  {
   "cell_type": "markdown",
   "metadata": {},
   "source": [
    "### Classification error for validation set"
   ]
  },
  {
   "cell_type": "code",
   "execution_count": 18,
   "metadata": {},
   "outputs": [],
   "source": [
    "yVal_pred = net1(xVal).argmax(dim=1)"
   ]
  },
  {
   "cell_type": "code",
   "execution_count": 19,
   "metadata": {},
   "outputs": [],
   "source": [
    "err_val = error(yVal_pred, yVal)"
   ]
  },
  {
   "cell_type": "code",
   "execution_count": 20,
   "metadata": {},
   "outputs": [
    {
     "data": {
      "text/plain": [
       "tensor(0.1361)"
      ]
     },
     "execution_count": 20,
     "metadata": {},
     "output_type": "execute_result"
    }
   ],
   "source": [
    "err_val"
   ]
  },
  {
   "cell_type": "markdown",
   "metadata": {},
   "source": [
    "### Classification error for test set"
   ]
  },
  {
   "cell_type": "code",
   "execution_count": 21,
   "metadata": {},
   "outputs": [],
   "source": [
    "yTest_pred = net1(xTest).argmax(dim=1)"
   ]
  },
  {
   "cell_type": "code",
   "execution_count": 22,
   "metadata": {},
   "outputs": [],
   "source": [
    "err_test = error(yTest_pred, yTest)"
   ]
  },
  {
   "cell_type": "code",
   "execution_count": 23,
   "metadata": {},
   "outputs": [
    {
     "data": {
      "text/plain": [
       "tensor(0.1283)"
      ]
     },
     "execution_count": 23,
     "metadata": {},
     "output_type": "execute_result"
    }
   ],
   "source": [
    "err_test"
   ]
  },
  {
   "cell_type": "markdown",
   "metadata": {},
   "source": [
    "# Network 2"
   ]
  },
  {
   "cell_type": "code",
   "execution_count": 24,
   "metadata": {},
   "outputs": [],
   "source": [
    "class Net2(nn.Module):\n",
    "    \n",
    "    def __init__(self):\n",
    "        super(Net2, self).__init__()\n",
    "        self.conv1 = nn.Conv2d(1, 20, kernel_size=3, padding=1, stride=1)\n",
    "        self.batchNorm1 = nn.BatchNorm2d(20)\n",
    "        self.pool1 = nn.MaxPool2d(kernel_size=2, padding=0, stride=2)\n",
    "        \n",
    "        self.conv2 = nn.Conv2d(20, 30, kernel_size=3, padding=1, stride=1)\n",
    "        self.batchNorm2 = nn.BatchNorm2d(30)\n",
    "        self.pool2 = nn.MaxPool2d(kernel_size=2, padding=0, stride=2)\n",
    "        \n",
    "        self.conv3 = nn.Conv2d(30, 50, kernel_size=3, padding=1, stride=1)\n",
    "        self.batchNorm3 = nn.BatchNorm2d(50)\n",
    "        \n",
    "        self.fc1 = nn.Linear(50 * 7 * 7, 10)\n",
    "      \n",
    "    def forward(self, x):\n",
    "        x = self.conv1(x)\n",
    "        x = F.relu(self.batchNorm1(x))\n",
    "        x = self.pool1(x)\n",
    "        \n",
    "        x = self.conv2(x)\n",
    "        x = F.relu(self.batchNorm2(x))\n",
    "        x = self.pool2(x)\n",
    "        \n",
    "        x = self.conv3(x)\n",
    "        x = x.view(-1, 50 * 7 * 7)\n",
    "        x = self.fc1(x)\n",
    "\n",
    "        return x"
   ]
  },
  {
   "cell_type": "code",
   "execution_count": 25,
   "metadata": {},
   "outputs": [],
   "source": [
    "net2 = Net2()"
   ]
  },
  {
   "cell_type": "code",
   "execution_count": 26,
   "metadata": {},
   "outputs": [],
   "source": [
    "epochs = 30"
   ]
  },
  {
   "cell_type": "code",
   "execution_count": 27,
   "metadata": {},
   "outputs": [],
   "source": [
    "loss_function = nn.CrossEntropyLoss()"
   ]
  },
  {
   "cell_type": "code",
   "execution_count": 28,
   "metadata": {},
   "outputs": [],
   "source": [
    "optimizer2 = torch.optim.SGD(net2.parameters(), lr=0.01, momentum=0.9)"
   ]
  },
  {
   "cell_type": "code",
   "execution_count": 29,
   "metadata": {},
   "outputs": [],
   "source": [
    "val_patience = 5 \n",
    "val_frequency = 30\n",
    "f = 0\n",
    "p = 0\n",
    "loss_val = []\n",
    "min_loss = np.inf\n",
    "loss_epoch = []\n",
    "loss_val_abscisse = []"
   ]
  },
  {
   "cell_type": "code",
   "execution_count": 30,
   "metadata": {},
   "outputs": [
    {
     "name": "stderr",
     "output_type": "stream",
     "text": [
      "100%|██████████| 30/30 [08:26<00:00, 16.90s/it]"
     ]
    },
    {
     "name": "stdout",
     "output_type": "stream",
     "text": [
      "CPU times: user 23min 54s, sys: 7min 30s, total: 31min 24s\n",
      "Wall time: 8min 26s\n"
     ]
    },
    {
     "name": "stderr",
     "output_type": "stream",
     "text": [
      "\n"
     ]
    }
   ],
   "source": [
    "%%time\n",
    "for epoch in tqdm(range(epochs)):\n",
    "    for batch_idx, (xTrain, yTrain) in enumerate(train_loader):        \n",
    "        optimizer2.zero_grad()\n",
    "        output = net2(xTrain)\n",
    "        loss = loss_function(output, yTrain)\n",
    "        loss.backward()\n",
    "        optimizer2.step()\n",
    "        \n",
    "        # Calculate loss validation every val_frequency iterations\n",
    "        if f%val_frequency == 0:  \n",
    "            with torch.no_grad():\n",
    "                output_val = net2(xVal)\n",
    "                loss_val_item = loss_function(output_val, yVal).item()\n",
    "              \n",
    "            loss_val.append(loss_val_item)\n",
    "            loss_val_abscisse.append(epoch)\n",
    "                \n",
    "            if min_loss > min(loss_val):\n",
    "                min_loss = min(loss_val)\n",
    "                p = 0\n",
    "            if loss_val_item >= min_loss:     \n",
    "                p += 1\n",
    "            # Check if the validation patience has been reached \n",
    "            if p == val_patience:\n",
    "                break\n",
    "        f += 1\n",
    "            \n",
    "    loss_epoch.append(loss.item())     \n",
    "    #print('Epoch', epoch, 'training loss', loss.item())"
   ]
  },
  {
   "cell_type": "markdown",
   "metadata": {},
   "source": [
    "### Plot training and validation loss"
   ]
  },
  {
   "cell_type": "code",
   "execution_count": 31,
   "metadata": {},
   "outputs": [
    {
     "data": {
      "text/plain": [
       "<matplotlib.legend.Legend at 0x7f787944d210>"
      ]
     },
     "execution_count": 31,
     "metadata": {},
     "output_type": "execute_result"
    },
    {
     "data": {
      "image/png": "[encoded data removed]",
      "text/plain": [
       "<Figure size 432x288 with 1 Axes>"
      ]
     },
     "metadata": {
      "needs_background": "light"
     },
     "output_type": "display_data"
    }
   ],
   "source": [
    "plt.plot(loss_epoch, label=\"Training loss\")\n",
    "plt.plot(loss_val_abscisse, loss_val, '--o', label=\"Validation loss\")\n",
    "plt.title(\"Loss variation \")\n",
    "plt.ylabel(\"Loss function\")\n",
    "plt.xlabel(\"Epochs\")\n",
    "plt.legend(loc=\"upper right\")"
   ]
  },
  {
   "cell_type": "markdown",
   "metadata": {},
   "source": [
    "## Classification errors"
   ]
  },
  {
   "cell_type": "markdown",
   "metadata": {},
   "source": [
    "### Classification error for validation set"
   ]
  },
  {
   "cell_type": "code",
   "execution_count": 32,
   "metadata": {},
   "outputs": [],
   "source": [
    "yVal_pred = net2(xVal).argmax(dim=1)"
   ]
  },
  {
   "cell_type": "code",
   "execution_count": 33,
   "metadata": {},
   "outputs": [],
   "source": [
    "err_val = error(yVal_pred, yVal)"
   ]
  },
  {
   "cell_type": "code",
   "execution_count": 34,
   "metadata": {},
   "outputs": [
    {
     "data": {
      "text/plain": [
       "tensor(0.0160)"
      ]
     },
     "execution_count": 34,
     "metadata": {},
     "output_type": "execute_result"
    }
   ],
   "source": [
    "err_val"
   ]
  },
  {
   "cell_type": "markdown",
   "metadata": {},
   "source": [
    "### Classification error for test set"
   ]
  },
  {
   "cell_type": "code",
   "execution_count": 35,
   "metadata": {},
   "outputs": [],
   "source": [
    "yTest_pred = net2(xTest).argmax(dim=1)"
   ]
  },
  {
   "cell_type": "code",
   "execution_count": 36,
   "metadata": {},
   "outputs": [],
   "source": [
    "err_test = error(yTest_pred, yTest)"
   ]
  },
  {
   "cell_type": "code",
   "execution_count": 37,
   "metadata": {},
   "outputs": [
    {
     "data": {
      "text/plain": [
       "tensor(0.0160)"
      ]
     },
     "execution_count": 37,
     "metadata": {},
     "output_type": "execute_result"
    }
   ],
   "source": [
    "err_test"
   ]
  }
 ],
 "metadata": {
  "kernelspec": {
   "display_name": "Python 3",
   "language": "python",
   "name": "python3"
  },
  "language_info": {
   "codemirror_mode": {
    "name": "ipython",
    "version": 3
   },
   "file_extension": ".py",
   "mimetype": "text/x-python",
   "name": "python",
   "nbconvert_exporter": "python",
   "pygments_lexer": "ipython3",
   "version": "3.7.4"
  }
 },
 "nbformat": 4,
 "nbformat_minor": 2
}
