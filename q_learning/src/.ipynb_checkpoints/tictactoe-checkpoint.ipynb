{
 "cells": [
  {
   "cell_type": "code",
   "execution_count": 1,
   "metadata": {},
   "outputs": [],
   "source": [
    "import numpy as np\n",
    "import matplotlib.pyplot as plt\n",
    "from tqdm import tqdm\n",
    "import csv"
   ]
  },
  {
   "cell_type": "markdown",
   "metadata": {},
   "source": [
    "# Tic Tac Toe game"
   ]
  },
  {
   "cell_type": "code",
   "execution_count": 2,
   "metadata": {},
   "outputs": [],
   "source": [
    "class TicTacToe():\n",
    "    \n",
    "    def __init__(self):\n",
    "        self.board = np.zeros((3,3))\n",
    "        \n",
    "    def action(self, player, position):\n",
    "        if player != 1 and player != -1:\n",
    "            print('Player not allowed')\n",
    "            \n",
    "        if position[0] >= 3 or position[1] >= 3:\n",
    "            print('Out of bounds')\n",
    "            \n",
    "        if self.board[position] == 0:\n",
    "            self.board[position] = player\n",
    "        else:\n",
    "            print('Move impossible')\n",
    "            \n",
    "        return self.isWinner(player)\n",
    "    \n",
    "    def getPossibleAction(self):\n",
    "        possibleActions = np.nan * np.ones((3,3))\n",
    "        mask = self.board == 0\n",
    "        possibleActions[mask] = 0\n",
    "        return possibleActions\n",
    "    \n",
    "    def isWinner(self, player):\n",
    "        for i in range(3):    \n",
    "            if (self.board[i,:] == player).all():\n",
    "                return True\n",
    "            if (self.board[:,i] == player).all():\n",
    "                return True\n",
    "        \n",
    "        if (self.board.diagonal() == player).all():\n",
    "            return True\n",
    "        \n",
    "        if (np.fliplr(self.board).diagonal() == player).all():\n",
    "            return True\n",
    "        \n",
    "        return False\n",
    "    \n",
    "    def reset(self):\n",
    "        self.board = np.zeros((3,3))"
   ]
  },
  {
   "cell_type": "markdown",
   "metadata": {},
   "source": [
    "# Q-learning"
   ]
  },
  {
   "cell_type": "code",
   "execution_count": 3,
   "metadata": {},
   "outputs": [],
   "source": [
    "def updateQTable(player, QTablePlayer, boardBeforeAction, position=None, reward=None, alpha=None):\n",
    "    k = hash(boardBeforeAction.tostring())\n",
    "    deltaQ = alpha * (reward - QTablePlayer[k][position])\n",
    "    QTablePlayer[k][position] += deltaQ\n",
    "    return QTablePlayer"
   ]
  },
  {
   "cell_type": "code",
   "execution_count": 4,
   "metadata": {},
   "outputs": [],
   "source": [
    "def insertIntoQTable(QTablePlayer, game, HashToBoardPlayer):\n",
    "    k = hash(game.board.tostring())\n",
    "    \n",
    "    QTablePlayer[k] = game.getPossibleAction()\n",
    "    HashToBoardPlayer[k] = game.board\n",
    "\n",
    "    return QTablePlayer, HashToBoardPlayer"
   ]
  },
  {
   "cell_type": "code",
   "execution_count": 5,
   "metadata": {},
   "outputs": [],
   "source": [
    "def argmax(array):\n",
    "    max = -np.inf\n",
    "    for i in range(array.shape[0]):\n",
    "        for j in range(array.shape[1]):\n",
    "            if array[i, j] > max and array[i, j] != np.nan:\n",
    "                i_max = i\n",
    "                j_max = j\n",
    "    return i_max, j_max"
   ]
  },
  {
   "cell_type": "code",
   "execution_count": 6,
   "metadata": {},
   "outputs": [],
   "source": [
    "def exploitation(game, QTablePlayer):\n",
    "    position = argmax(QTablePlayer[hash(game.board.tostring())])\n",
    "    return position"
   ]
  },
  {
   "cell_type": "code",
   "execution_count": 7,
   "metadata": {},
   "outputs": [],
   "source": [
    "def exploration(game):\n",
    "    possiblePositions = np.argwhere(game.getPossibleAction() == 0)\n",
    "    idx = np.random.randint(possiblePositions.shape[0])\n",
    "    position = (possiblePositions[idx,0], possiblePositions[idx,1]) \n",
    "    return position"
   ]
  },
  {
   "cell_type": "code",
   "execution_count": 8,
   "metadata": {},
   "outputs": [],
   "source": [
    "def play(player, QTablePlayer, game, epsilon):\n",
    "    isExploration = np.random.choice([True, False], p=[epsilon, 1-epsilon])\n",
    "    \n",
    "    if not isExploration:\n",
    "        position = exploitation(game, QTablePlayer)\n",
    "    else:\n",
    "        position = exploration(game)\n",
    "        \n",
    "    boardBeforeAction = np.copy(game.board)\n",
    "    isWinner = game.action(player, position)\n",
    "        \n",
    "    return isWinner, position, boardBeforeAction"
   ]
  },
  {
   "cell_type": "markdown",
   "metadata": {},
   "source": [
    "## Training"
   ]
  },
  {
   "cell_type": "code",
   "execution_count": 9,
   "metadata": {},
   "outputs": [],
   "source": [
    "epochs = int(1e6)\n",
    "epsilon = 1\n",
    "game = TicTacToe()\n",
    "alpha = 0.1\n",
    "QTable = dict({-1:dict(), 1:dict()})\n",
    "HashToBoard = dict({-1:dict(), 1:dict()})\n",
    "rWin = 1\n",
    "rLose = -1\n",
    "nb_draw = 0\n",
    "nb_win_player_1 = 0\n",
    "nb_win_player_2 = 0\n",
    "player1_win = []\n",
    "player2_win = []\n",
    "draw = []\n",
    "nb_game = 0"
   ]
  },
  {
   "cell_type": "code",
   "execution_count": 10,
   "metadata": {},
   "outputs": [
    {
     "name": "stderr",
     "output_type": "stream",
     "text": [
      "100%|██████████| 1000000/1000000 [02:33<00:00, 6520.47it/s]\n"
     ]
    }
   ],
   "source": [
    "for epoch in tqdm(range(epochs)):\n",
    "    for player in [-1, 1]:\n",
    "        QTablePlayer = QTable[player]\n",
    "        HashToBoardPlayer = HashToBoard[player]\n",
    "        \n",
    "        if hash(game.board.tostring()) not in QTablePlayer.keys():\n",
    "            QTablePlayer, HashToBoardPlayer = insertIntoQTable(QTablePlayer, game, HashToBoardPlayer)\n",
    "        \n",
    "        (isWinner, \n",
    "         position, \n",
    "         boardBeforeAction) = play(player, QTablePlayer, game, epsilon)  \n",
    "        \n",
    "        QTablePlayer = updateQTable(\n",
    "            player,\n",
    "            QTablePlayer, \n",
    "            boardBeforeAction, \n",
    "            position, \n",
    "            rWin if isWinner else rLose, \n",
    "            alpha)\n",
    "\n",
    "        if isWinner:\n",
    "            game.reset()\n",
    "            # Player -1 is player 1\n",
    "            if player == -1:\n",
    "                nb_win_player_1 += 1\n",
    "            if player == 1:\n",
    "                nb_win_player_2 += 1\n",
    "            nb_game += 1\n",
    "            break\n",
    "        \n",
    "        if not 0 in game.board:\n",
    "            game.reset()\n",
    "            nb_draw += 1\n",
    "            nb_game += 1\n",
    "            break\n",
    "            \n",
    "        QTable[player] = QTablePlayer\n",
    "        HashToBoard[player] = HashToBoardPlayer\n",
    "     \n",
    "    epsilon -= 1/(epochs+1)\n",
    "    if epsilon < 0:\n",
    "        epsilon = 0\n",
    "    \n",
    "    if epoch%1000 == 0 and nb_game != 0:\n",
    "        player1_win.append(nb_win_player_1/nb_game)\n",
    "        player2_win.append(nb_win_player_2/nb_game)\n",
    "        draw.append(nb_draw/nb_game)"
   ]
  },
  {
   "cell_type": "code",
   "execution_count": 12,
   "metadata": {},
   "outputs": [
    {
     "data": {
      "text/plain": [
       "<matplotlib.legend.Legend at 0x7f6d84502210>"
      ]
     },
     "execution_count": 12,
     "metadata": {},
     "output_type": "execute_result"
    },
    {
     "data": {
      "image/png": "[encoded data removed]",
      "text/plain": [
       "<Figure size 432x288 with 1 Axes>"
      ]
     },
     "metadata": {
      "needs_background": "light"
     },
     "output_type": "display_data"
    }
   ],
   "source": [
    "plt.plot(player1_win, label=\"Player1\")\n",
    "plt.plot(player2_win, label=\"Player2\")\n",
    "plt.plot(draw, label=\"draw\")\n",
    "plt.title(\"Proportions through training\")\n",
    "plt.ylabel(\"Loss function\")\n",
    "plt.xlabel(\"1000-Epochs\")\n",
    "plt.legend(loc=\"upper right\")"
   ]
  },
  {
   "cell_type": "code",
   "execution_count": null,
   "metadata": {},
   "outputs": [],
   "source": [
    "def writePDF(player, QTable, HashToBoard): \n",
    "    QTablePlayer = QTable[player]\n",
    "    HashToBoardPlayer = HashToBoard[player]\n",
    "    \n",
    "    QTableValues = np.concatenate(list(QTablePlayer.values()), axis=1)\n",
    "    boards = np.zeros(QTableValues.shape)\n",
    "    \n",
    "    keys = list(QTablePlayer.keys())\n",
    "    boards = HashToBoardPlayer[keys[0]]\n",
    "    \n",
    "    # Make sure that the board corresponds to the QTable values\n",
    "    for k in keys[1:]:\n",
    "        boards = np.concatenate((boards, HashToBoardPlayer[k]), axis=1)\n",
    "        \n",
    "    file = open(f\"../QTables/player{1 if player == -1 else 2}.csv\", \"w\")\n",
    "    writer = csv.writer(file)\n",
    "    \n",
    "    for row in boards:\n",
    "        writer.writerow(row)\n",
    "        \n",
    "    for row in QTableValues:\n",
    "        writer.writerow(row)\n",
    "   \n",
    "    file.close()"
   ]
  },
  {
   "cell_type": "code",
   "execution_count": null,
   "metadata": {},
   "outputs": [],
   "source": [
    "writePDF(1, QTable, HashToBoard)\n",
    "writePDF(-1, QTable, HashToBoard)"
   ]
  },
  {
   "cell_type": "code",
   "execution_count": null,
   "metadata": {},
   "outputs": [],
   "source": [
    "\"\"\"\n",
    "for epoch in tqdm(range(epochs)):\n",
    "    for player in [1, -1]:\n",
    "        QTablePlayer = QTable[player]\n",
    "        \n",
    "        position = exploitation(game, QTablePlayer)\n",
    "        isWinner = game.action(player, position)\n",
    "  \n",
    "        if isWinner:\n",
    "            game.reset()\n",
    "            if player == 1:\n",
    "                nb_win_player_1 += 1\n",
    "                nb_lose_player_m1 += 1\n",
    "\n",
    "            if player == -1:\n",
    "                nb_lose_player_1 += 1\n",
    "                nb_lose_player_m1 += 1\n",
    "            break\n",
    "        \n",
    "        if not 0 in game.board:\n",
    "            game.reset()\n",
    "            nb_draw += 1\n",
    "            break\n",
    "\"\"\""
   ]
  }
 ],
 "metadata": {
  "kernelspec": {
   "display_name": "Python 3",
   "language": "python",
   "name": "python3"
  },
  "language_info": {
   "codemirror_mode": {
    "name": "ipython",
    "version": 3
   },
   "file_extension": ".py",
   "mimetype": "text/x-python",
   "name": "python",
   "nbconvert_exporter": "python",
   "pygments_lexer": "ipython3",
   "version": "3.7.4"
  }
 },
 "nbformat": 4,
 "nbformat_minor": 2
}
